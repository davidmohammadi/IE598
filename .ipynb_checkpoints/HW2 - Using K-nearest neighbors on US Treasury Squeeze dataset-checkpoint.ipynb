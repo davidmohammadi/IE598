{
 "cells": [
  {
   "cell_type": "code",
   "execution_count": 34,
   "metadata": {},
   "outputs": [],
   "source": [
    "#Homework 2 - David Mohammadi \n",
    "#Some code derived from DataCamp - Supervised Learning with scikit-learn (Classification)\n",
    "\n",
    "#Instructions\n",
    "#Implement the code presented in Raschka Chapter 3 to fit a KNN and decision tree classifier to the Treasury dataset.\n",
    "#Test multiple different K inputs to try to identify the best choice of K for this data.  \n",
    "#(Refer to sample code file made available to you.)\n",
    "#Figure out how best to include this information, (Table, chart, etc.)"
   ]
  },
  {
   "cell_type": "code",
   "execution_count": 35,
   "metadata": {},
   "outputs": [],
   "source": [
    "#Import packages\n",
    "from sklearn.tree import DecisionTreeClassifier\n",
    "from sklearn.model_selection import train_test_split\n",
    "from sklearn.metrics import accuracy_score\n",
    "from sklearn.neighbors import KNeighborsClassifier\n",
    "import matplotlib.pyplot as plt\n",
    "import pandas as pd\n",
    "import numpy as np"
   ]
  },
  {
   "cell_type": "code",
   "execution_count": 36,
   "metadata": {
    "scrolled": false
   },
   "outputs": [
    {
     "data": {
      "text/html": [
       "<div>\n",
       "<style scoped>\n",
       "    .dataframe tbody tr th:only-of-type {\n",
       "        vertical-align: middle;\n",
       "    }\n",
       "\n",
       "    .dataframe tbody tr th {\n",
       "        vertical-align: top;\n",
       "    }\n",
       "\n",
       "    .dataframe thead th {\n",
       "        text-align: right;\n",
       "    }\n",
       "</style>\n",
       "<table border=\"1\" class=\"dataframe\">\n",
       "  <thead>\n",
       "    <tr style=\"text-align: right;\">\n",
       "      <th></th>\n",
       "      <th>price_crossing</th>\n",
       "      <th>price_distortion</th>\n",
       "      <th>roll_start</th>\n",
       "      <th>roll_heart</th>\n",
       "      <th>near_minus_next</th>\n",
       "      <th>ctd_last_first</th>\n",
       "      <th>ctd1_percent</th>\n",
       "      <th>delivery_cost</th>\n",
       "      <th>delivery_ratio</th>\n",
       "      <th>squeeze</th>\n",
       "    </tr>\n",
       "  </thead>\n",
       "  <tbody>\n",
       "    <tr>\n",
       "      <th>0</th>\n",
       "      <td>0</td>\n",
       "      <td>1</td>\n",
       "      <td>0</td>\n",
       "      <td>1</td>\n",
       "      <td>1</td>\n",
       "      <td>1</td>\n",
       "      <td>1</td>\n",
       "      <td>0</td>\n",
       "      <td>0</td>\n",
       "      <td>True</td>\n",
       "    </tr>\n",
       "    <tr>\n",
       "      <th>1</th>\n",
       "      <td>0</td>\n",
       "      <td>1</td>\n",
       "      <td>1</td>\n",
       "      <td>0</td>\n",
       "      <td>1</td>\n",
       "      <td>1</td>\n",
       "      <td>0</td>\n",
       "      <td>0</td>\n",
       "      <td>1</td>\n",
       "      <td>False</td>\n",
       "    </tr>\n",
       "    <tr>\n",
       "      <th>2</th>\n",
       "      <td>0</td>\n",
       "      <td>0</td>\n",
       "      <td>1</td>\n",
       "      <td>1</td>\n",
       "      <td>0</td>\n",
       "      <td>0</td>\n",
       "      <td>0</td>\n",
       "      <td>0</td>\n",
       "      <td>0</td>\n",
       "      <td>False</td>\n",
       "    </tr>\n",
       "    <tr>\n",
       "      <th>3</th>\n",
       "      <td>1</td>\n",
       "      <td>1</td>\n",
       "      <td>0</td>\n",
       "      <td>0</td>\n",
       "      <td>0</td>\n",
       "      <td>0</td>\n",
       "      <td>0</td>\n",
       "      <td>1</td>\n",
       "      <td>1</td>\n",
       "      <td>True</td>\n",
       "    </tr>\n",
       "    <tr>\n",
       "      <th>4</th>\n",
       "      <td>0</td>\n",
       "      <td>0</td>\n",
       "      <td>1</td>\n",
       "      <td>1</td>\n",
       "      <td>1</td>\n",
       "      <td>1</td>\n",
       "      <td>1</td>\n",
       "      <td>0</td>\n",
       "      <td>0</td>\n",
       "      <td>False</td>\n",
       "    </tr>\n",
       "  </tbody>\n",
       "</table>\n",
       "</div>"
      ],
      "text/plain": [
       "   price_crossing  price_distortion  roll_start  roll_heart  near_minus_next  \\\n",
       "0               0                 1           0           1                1   \n",
       "1               0                 1           1           0                1   \n",
       "2               0                 0           1           1                0   \n",
       "3               1                 1           0           0                0   \n",
       "4               0                 0           1           1                1   \n",
       "\n",
       "   ctd_last_first  ctd1_percent  delivery_cost  delivery_ratio  squeeze  \n",
       "0               1             1              0               0     True  \n",
       "1               1             0              0               1    False  \n",
       "2               0             0              0               0    False  \n",
       "3               0             0              1               1     True  \n",
       "4               1             1              0               0    False  "
      ]
     },
     "execution_count": 36,
     "metadata": {},
     "output_type": "execute_result"
    }
   ],
   "source": [
    "#import Treasury Squeeze Dataset\n",
    "df = pd.read_csv(r\"C:\\Users\\dmoha\\Desktop\\treasury_squeeze_test.csv\")\n",
    "del df['rowindex']\n",
    "del df['contract']\n",
    "df.head()"
   ]
  },
  {
   "cell_type": "code",
   "execution_count": 37,
   "metadata": {},
   "outputs": [],
   "source": [
    "#Data clean-up\n",
    "x = df.iloc[:, 0:-1]\n",
    "y = df.iloc[:,-1]\n",
    "\n",
    "X_train, X_test, y_train, y_test = train_test_split(x, y, test_size = 0.2, random_state = 21)"
   ]
  },
  {
   "cell_type": "code",
   "execution_count": 38,
   "metadata": {},
   "outputs": [
    {
     "data": {
      "text/plain": [
       "0.5611111111111111"
      ]
     },
     "execution_count": 38,
     "metadata": {},
     "output_type": "execute_result"
    }
   ],
   "source": [
    "#K-Nearest Neighbors\n",
    "knn = KNeighborsClassifier(n_neighbors = 5)\n",
    "knn.fit(X_train, y_train)\n",
    "y_pred = knn.predict(X_test)\n",
    "\n",
    "knn.score(X_test, y_test)"
   ]
  },
  {
   "cell_type": "code",
   "execution_count": 39,
   "metadata": {},
   "outputs": [
    {
     "name": "stdout",
     "output_type": "stream",
     "text": [
      "[0.49444444444444446, 0.5611111111111111, 0.5666666666666667, 0.5611111111111111, 0.5611111111111111, 0.6, 0.5833333333333334, 0.5944444444444444, 0.5888888888888889, 0.5944444444444444, 0.5944444444444444, 0.5666666666666667, 0.5944444444444444, 0.5833333333333334, 0.5666666666666667, 0.6222222222222222, 0.6277777777777778, 0.5833333333333334, 0.5944444444444444, 0.6, 0.5888888888888889, 0.6277777777777778, 0.5888888888888889, 0.6166666666666667, 0.5888888888888889]\n"
     ]
    }
   ],
   "source": [
    "#Iterate through n_neighbors values for K-Nearest Neighbors\n",
    "#Professor Murphy's iterating code chunk\n",
    "k_range = range(1, 26)\n",
    "scores = []\n",
    "for k in k_range:\n",
    "    knn = KNeighborsClassifier(n_neighbors = k)\n",
    "    knn.fit(X_train, y_train)\n",
    "    y_pred = knn.predict(X_test)\n",
    "    scores.append(accuracy_score(y_test, y_pred))\n",
    "    \n",
    "index = list(range(1,26))\n",
    "print(scores)"
   ]
  },
  {
   "cell_type": "code",
   "execution_count": 40,
   "metadata": {},
   "outputs": [
    {
     "name": "stdout",
     "output_type": "stream",
     "text": [
      "[[ 1.          0.49444444]\n",
      " [ 2.          0.56111111]\n",
      " [ 3.          0.56666667]\n",
      " [ 4.          0.56111111]\n",
      " [ 5.          0.56111111]\n",
      " [ 6.          0.6       ]\n",
      " [ 7.          0.58333333]\n",
      " [ 8.          0.59444444]\n",
      " [ 9.          0.58888889]\n",
      " [10.          0.59444444]\n",
      " [11.          0.59444444]\n",
      " [12.          0.56666667]\n",
      " [13.          0.59444444]\n",
      " [14.          0.58333333]\n",
      " [15.          0.56666667]\n",
      " [16.          0.62222222]\n",
      " [17.          0.62777778]\n",
      " [18.          0.58333333]\n",
      " [19.          0.59444444]\n",
      " [20.          0.6       ]\n",
      " [21.          0.58888889]\n",
      " [22.          0.62777778]\n",
      " [23.          0.58888889]\n",
      " [24.          0.61666667]\n",
      " [25.          0.58888889]]\n"
     ]
    }
   ],
   "source": [
    "#Create table for the different n_neighbors values given their accuracy\n",
    "#Code derived from: https://stackoverflow.com/questions/18730044/converting-two-lists-into-a-matrix\n",
    "scoreIndexedArray = np.column_stack((index, scores))\n",
    "print(scoreIndexedArray)"
   ]
  },
  {
   "cell_type": "code",
   "execution_count": 41,
   "metadata": {},
   "outputs": [
    {
     "data": {
      "text/plain": [
       "<function matplotlib.pyplot.show(*args, **kw)>"
      ]
     },
     "execution_count": 41,
     "metadata": {},
     "output_type": "execute_result"
    },
    {
     "data": {
      "image/png": "[encoded data removed]",
      "text/plain": [
       "<Figure size 432x288 with 1 Axes>"
      ]
     },
     "metadata": {
      "needs_background": "light"
     },
     "output_type": "display_data"
    }
   ],
   "source": [
    "#Plot KNN scores\n",
    "plt.plot(index, scores, 'o')\n",
    "plt.xlabel(\"number of k_neighbors\")\n",
    "plt.ylabel(\"score\")\n",
    "plt.xticks(index)\n",
    "plt.grid()\n",
    "plt.show"
   ]
  },
  {
   "cell_type": "code",
   "execution_count": 42,
   "metadata": {},
   "outputs": [
    {
     "name": "stdout",
     "output_type": "stream",
     "text": [
      "0.6277777777777778\n"
     ]
    }
   ],
   "source": [
    "#Decision Tree\n",
    "dt = DecisionTreeClassifier(max_depth = 2, random_state = 1)\n",
    "dt.fit(X_train, y_train)\n",
    "y_pred = dt.predict(X_test)\n",
    "\n",
    "acc = accuracy_score(y_test, y_pred)\n",
    "print(acc)"
   ]
  },
  {
   "cell_type": "code",
   "execution_count": 43,
   "metadata": {},
   "outputs": [
    {
     "name": "stdout",
     "output_type": "stream",
     "text": [
      "[0.6222222222222222, 0.6277777777777778, 0.6611111111111111, 0.6555555555555556, 0.6388888888888888, 0.6055555555555555, 0.6222222222222222, 0.5666666666666667, 0.5555555555555556, 0.5611111111111111, 0.5611111111111111, 0.5611111111111111, 0.5611111111111111, 0.5611111111111111, 0.5611111111111111, 0.5611111111111111, 0.5611111111111111, 0.5611111111111111, 0.5611111111111111, 0.5611111111111111, 0.5611111111111111, 0.5611111111111111, 0.5611111111111111, 0.5611111111111111, 0.5611111111111111]\n"
     ]
    }
   ],
   "source": [
    "#Iterate through max_depth values for Decision Tree Classifier\n",
    "#Professor Murphy's iterating code chunk\n",
    "max_depth_range = range(1, 26)\n",
    "mscores = []\n",
    "for m in max_depth_range:\n",
    "    dt = DecisionTreeClassifier(max_depth = m, random_state = 1)\n",
    "    dt.fit(X_train, y_train)\n",
    "    y_pred = dt.predict(X_test)\n",
    "    mscores.append(accuracy_score(y_test, y_pred))\n",
    "    \n",
    "\n",
    "index = list(range(1,26))\n",
    "print(mscores)"
   ]
  },
  {
   "cell_type": "code",
   "execution_count": 44,
   "metadata": {},
   "outputs": [
    {
     "name": "stdout",
     "output_type": "stream",
     "text": [
      "[[ 1.          0.62222222]\n",
      " [ 2.          0.62777778]\n",
      " [ 3.          0.66111111]\n",
      " [ 4.          0.65555556]\n",
      " [ 5.          0.63888889]\n",
      " [ 6.          0.60555556]\n",
      " [ 7.          0.62222222]\n",
      " [ 8.          0.56666667]\n",
      " [ 9.          0.55555556]\n",
      " [10.          0.56111111]\n",
      " [11.          0.56111111]\n",
      " [12.          0.56111111]\n",
      " [13.          0.56111111]\n",
      " [14.          0.56111111]\n",
      " [15.          0.56111111]\n",
      " [16.          0.56111111]\n",
      " [17.          0.56111111]\n",
      " [18.          0.56111111]\n",
      " [19.          0.56111111]\n",
      " [20.          0.56111111]\n",
      " [21.          0.56111111]\n",
      " [22.          0.56111111]\n",
      " [23.          0.56111111]\n",
      " [24.          0.56111111]\n",
      " [25.          0.56111111]]\n"
     ]
    }
   ],
   "source": [
    "#Create table for the different max_depth values given their accuracy\n",
    "mscoreIndexedArray = np.column_stack((index, mscores))\n",
    "print(mscoreIndexedArray)"
   ]
  },
  {
   "cell_type": "code",
   "execution_count": 45,
   "metadata": {},
   "outputs": [
    {
     "name": "stdout",
     "output_type": "stream",
     "text": [
      "My name is David Mohammadi\n",
      "My NetID is: dmohamm2\n",
      "I hereby certify that I have read the University policy on Academic Integrity and that I am not in violation.\n"
     ]
    }
   ],
   "source": [
    "print(\"My name is David Mohammadi\")\n",
    "print(\"My NetID is: dmohamm2\")\n",
    "print(\"I hereby certify that I have read the University policy on Academic Integrity and that I am not in violation.\")"
   ]
  }
 ],
 "metadata": {
  "kernelspec": {
   "display_name": "Python 3",
   "language": "python",
   "name": "python3"
  },
  "language_info": {
   "codemirror_mode": {
    "name": "ipython",
    "version": 3
   },
   "file_extension": ".py",
   "mimetype": "text/x-python",
   "name": "python",
   "nbconvert_exporter": "python",
   "pygments_lexer": "ipython3",
   "version": "3.7.3"
  }
 },
 "nbformat": 4,
 "nbformat_minor": 2
}
