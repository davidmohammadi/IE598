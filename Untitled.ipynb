{
 "cells": [
  {
   "cell_type": "code",
   "execution_count": null,
   "metadata": {},
   "outputs": [],
   "source": [
    "k = 0\n",
    "for i in df.columns:\n",
    "    #if statement is derived off: stackoverflow.com/questions/22697773/how-to-check-the-dtype-of-a-column-in-python-pandas\n",
    "    if(df[i].dtype == np.float64 or df[i].dtype == np.int64): \n",
    "        \n",
    "        print(\" \")\n",
    "        print(\"---------------------------------------------\")\n",
    "        print(\" \")\n",
    "        \n",
    "        print(\"COLUMN:\", end = \" \")\n",
    "        print(df.columns[k])\n",
    "        \n",
    "        print(\"Mean =\", end = \" \")\n",
    "        print(np.mean(df.iloc[:,k]))\n",
    "        \n",
    "        print(\"Median =\", end = \" \")\n",
    "        print(np.median(df.iloc[:, k]))\n",
    "        \n",
    "        print(\"Standard Deviation  =\", end = \" \")\n",
    "        print(np.std(df.iloc[:,k])/100)\n",
    "        \n",
    "        percentiles = np.array([2.5, 25, 50, 75, 97.5])\n",
    "        print(\"2.5, 25, 50, 75, 97.5 percentiles: \", end = \"\")\n",
    "        print(np.percentile(df.iloc[:,k], percentiles))\n",
    "\n",
    "        \n",
    "    k = k+1"
   ]
  }
 ],
 "metadata": {
  "kernelspec": {
   "display_name": "Python 3",
   "language": "python",
   "name": "python3"
  },
  "language_info": {
   "codemirror_mode": {
    "name": "ipython",
    "version": 3
   },
   "file_extension": ".py",
   "mimetype": "text/x-python",
   "name": "python",
   "nbconvert_exporter": "python",
   "pygments_lexer": "ipython3",
   "version": "3.7.3"
  }
 },
 "nbformat": 4,
 "nbformat_minor": 2
}
